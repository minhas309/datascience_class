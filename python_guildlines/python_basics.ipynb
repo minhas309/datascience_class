{
 "cells": [
  {
   "cell_type": "code",
   "execution_count": 40,
   "id": "b8ebafe4",
   "metadata": {},
   "outputs": [
    {
     "name": "stdout",
     "output_type": "stream",
     "text": [
      "<class 'int'>\n",
      "<class 'str'>\n",
      "<class 'float'>\n"
     ]
    }
   ],
   "source": [
    "obj = 12\n",
    "print(type(obj))\n",
    "\n",
    "obj = 'hgxjgvj'\n",
    "print(type(obj))\n",
    "\n",
    "\n",
    "obj = 12.45\n",
    "print(type(obj))\n",
    "\n",
    "#name = input('What\\'s your course namme?')"
   ]
  },
  {
   "cell_type": "code",
   "execution_count": 41,
   "id": "ff7414e6",
   "metadata": {},
   "outputs": [
    {
     "name": "stdout",
     "output_type": "stream",
     "text": [
      "125\n"
     ]
    }
   ],
   "source": [
    "def func(x):\n",
    "    return x**3\n",
    "\n",
    "print (func(5))"
   ]
  },
  {
   "cell_type": "code",
   "execution_count": 42,
   "id": "89d64243",
   "metadata": {},
   "outputs": [
    {
     "name": "stdout",
     "output_type": "stream",
     "text": [
      "Value: 8, Memory Reference: 2334732976592\n",
      "In function call\n",
      "Value: 8, Memory Reference: 2334732976592\n",
      "In function call\n",
      "Value: 8, Memory Reference: 2334732976592\n",
      "Are both memory references same?: True\n",
      "yellow\n",
      "11\n",
      "area: 6\n",
      "area: 33\n",
      "area: 66\n"
     ]
    }
   ],
   "source": [
    "#functions\n",
    "\n",
    "def square(value):\n",
    "    return value ** 2 #** is exponent operator\n",
    "\n",
    "def square_root(value):\n",
    "    return value ** 0.5\n",
    "\n",
    "#let's try the default params in functions\n",
    "def area (len=2, wid = 3):\n",
    "    return len * wid\n",
    "\n",
    "def maximum(v1,v2,v3):\n",
    "    max_value = v1\n",
    "    if v2 > max_value:\n",
    "        max_value = v2\n",
    "    if v3 > max_value:\n",
    "        max_value = v3\n",
    "    return max_value\n",
    "\n",
    "#functions are always pass by reference in python\n",
    "obj = 8\n",
    "print (f'Value: {obj}, Memory Reference: {id(obj)}')\n",
    "\n",
    "#let's verify \n",
    "def check_pass_by_ref(obj):\n",
    "    print('In function call')\n",
    "    print (f'Value: {obj}, Memory Reference: {id(obj)}')\n",
    "    return id(obj)\n",
    "\n",
    "\n",
    "check_pass_by_ref(obj)\n",
    "print ('Are both memory references same?:', id(obj) == check_pass_by_ref(obj))\n",
    "\n",
    "# you can always check the immutabilioty test for collections as well\n",
    "\n",
    "print(maximum('yellow','red','orange'))\n",
    "print(maximum(10,5,11))\n",
    "print(\"area:\", area())\n",
    "print(\"area:\", area(11))\n",
    "print(\"area:\", area(11,6))\n",
    "\n",
    "square_root??"
   ]
  },
  {
   "cell_type": "code",
   "execution_count": 43,
   "id": "d6ab8bf9",
   "metadata": {},
   "outputs": [
    {
     "name": "stdout",
     "output_type": "stream",
     "text": [
      "1 2 2 3 6 2 4 1 6 1 \n",
      "\n",
      "H T T H T T H H H T "
     ]
    }
   ],
   "source": [
    "#random numbers\n",
    "\n",
    "import random \n",
    "random.seed(32) # remove the seed for actual pseudorandom number\n",
    "for _ in range (10): # lets roll the dice for 10 times\n",
    "    print(random.randrange(1,7), end = \" \")\n",
    "print('\\n')  \n",
    "for _ in range(10):\n",
    "    print ('H' if random.randrange(2) == 0 else 'T', end = ' ')"
   ]
  },
  {
   "cell_type": "code",
   "execution_count": 44,
   "id": "a8c8eac6",
   "metadata": {},
   "outputs": [
    {
     "name": "stdout",
     "output_type": "stream",
     "text": [
      "<class 'tuple'>\n",
      "<class 'dict'>\n",
      "<class 'list'>\n",
      "<class 'set'>\n"
     ]
    }
   ],
   "source": [
    "x = ()\n",
    "\n",
    "print(type(x))\n",
    "\n",
    "x = {}\n",
    "\n",
    "print(type(x))\n",
    "\n",
    "x = []\n",
    "\n",
    "print(type(x))\n",
    "\n",
    "x = {()}\n",
    "\n",
    "print(type(x))"
   ]
  },
  {
   "cell_type": "code",
   "execution_count": 58,
   "id": "7070dbc5",
   "metadata": {},
   "outputs": [
    {
     "name": "stdout",
     "output_type": "stream",
     "text": [
      "<class 'tuple'>\n",
      "x =>  (5, 6, 7, 8)\n",
      "y=>  (4, 66)\n",
      "(5, 6, 7, 8, 4, 66)\n",
      "5\n",
      "0 5\n",
      "1 6\n",
      "2 7\n",
      "3 8\n",
      "zipped =>  ((5, 4), (6, 66))\n",
      "Sum => 70\n",
      "Max => 66\n",
      "Min => 4\n",
      "Name: Abdullah, Grades: [35, 41, 11, 39]\n",
      "'type(name): <class 'str'>\n",
      "'type(grade): <class 'list'>\n"
     ]
    }
   ],
   "source": [
    "#TUPLES OPERATIONS\n",
    "\n",
    "#packing values to the tuple\n",
    "x = (5,6,7,8)\n",
    "y = (4,66)\n",
    "print (type(x))\n",
    "print('x => ',x)\n",
    "print ('y=> ',y)\n",
    "z  = x + y\n",
    "\n",
    "print (z)\n",
    "print (z[0])\n",
    "\n",
    "#unpakcing the values\n",
    "a,b = y\n",
    "\n",
    "#enumerate would create iterator over the collections\n",
    "for index, value in enumerate(x):\n",
    "    print (index, value)\n",
    "\n",
    "utp = tuple(zip(x,y))\n",
    "print ('zipped => ', utp)\n",
    "print('Sum =>', sum(y))\n",
    "print('Max =>', max(y))\n",
    "print('Min =>', min(y))\n",
    "\n",
    "#following is more data science oriented example\n",
    "\n",
    "student = (\"Abdullah\", [35,41,11,39])\n",
    "name, grade = student\n",
    "print(f'Name: {name}, Grades: {grade}')\n",
    "print ('\\'type(name):', type(name))\n",
    "print ('\\'type(grade):', type(grade))"
   ]
  },
  {
   "cell_type": "code",
   "execution_count": 55,
   "id": "4fe5682d",
   "metadata": {},
   "outputs": [
    {
     "name": "stdout",
     "output_type": "stream",
     "text": [
      "Checking the type of list\n",
      "<class 'list'>\n",
      "The list in the actual order: \n",
      "[4, 5, 'Usman']\n",
      "The list in the reserve order: \n",
      "['Usman', 5, 4]\n",
      "Inserting the value in the list: \n",
      "['Muhammad', 'Usman', 5, 4]\n",
      "Appending the value in the list: \n",
      "['Muhammad', 'Usman', 5, 4, 'cs4048']\n",
      "Popping the value from the list: \n",
      "['Muhammad', 'Usman', 5, 4]\n",
      "Lenght of the list is:  4\n",
      "sliced List is as:  ['Usman', 4]\n"
     ]
    }
   ],
   "source": [
    "# LIST OPERATIONS\n",
    "\n",
    "x = [4,5, 'Usman']\n",
    "print ('Checking the type of list')\n",
    "print (type(x))\n",
    "\n",
    "print('The list in the actual order: ')\n",
    "print(x)\n",
    "\n",
    "print('The list in the reserve order: ')\n",
    "x = list(reversed(x))\n",
    "print(x)\n",
    "\n",
    "print ('Inserting the value in the list: ')\n",
    "x.insert(0,\"Muhammad\")\n",
    "print(x)\n",
    "\n",
    "print ('Appending the value in the list: ')\n",
    "x.append('cs4048')\n",
    "print(x)\n",
    "\n",
    "print ('Popping the value from the list: ')\n",
    "x.pop()\n",
    "print(x)\n",
    "\n",
    "#checking the size of the list \n",
    "print('Lenght of the list is: ', len(x))\n",
    "#LIST Slicing => list[start:end:step]\n",
    "print ('sliced List is as: ', x[1:5:2])"
   ]
  },
  {
   "cell_type": "code",
   "execution_count": 59,
   "id": "4312c690",
   "metadata": {},
   "outputs": [
    {
     "data": {
      "text/plain": [
       "['D',\n",
       " 'a',\n",
       " 't',\n",
       " 'a',\n",
       " ' ',\n",
       " 'S',\n",
       " 'c',\n",
       " 'i',\n",
       " 'e',\n",
       " 'n',\n",
       " 'c',\n",
       " 'e',\n",
       " 'C',\n",
       " 'S',\n",
       " '4',\n",
       " '0',\n",
       " '4',\n",
       " '8']"
      ]
     },
     "execution_count": 59,
     "metadata": {},
     "output_type": "execute_result"
    }
   ],
   "source": [
    "#some more manipulations\n",
    "\n",
    "letters = []\n",
    "letters += 'Data Science'\n",
    "letters\n",
    "more_letters = []\n",
    "more_letters += 'CS4048'\n",
    "final_letters = letters + more_letters\n",
    "final_letters"
   ]
  },
  {
   "cell_type": "markdown",
   "id": "87028078",
   "metadata": {},
   "source": [
    "dict1 = {'23':23,'23':'sj'}\n",
    "dict1\n",
    "\n",
    "valueList = ['Advanced Programming', 'Data Science', 'Intro to SE']\n",
    "keyList = ['CS4043', 'CS4048', 'SE1001']\n",
    "dict2 = dict(zip(keyList,valueList))\n",
    "print(dict2)\n",
    "print(dict2.values())\n"
   ]
  }
 ],
 "metadata": {
  "kernelspec": {
   "display_name": "Python 3 (ipykernel)",
   "language": "python",
   "name": "python3"
  },
  "language_info": {
   "codemirror_mode": {
    "name": "ipython",
    "version": 3
   },
   "file_extension": ".py",
   "mimetype": "text/x-python",
   "name": "python",
   "nbconvert_exporter": "python",
   "pygments_lexer": "ipython3",
   "version": "3.11.4"
  }
 },
 "nbformat": 4,
 "nbformat_minor": 5
}
