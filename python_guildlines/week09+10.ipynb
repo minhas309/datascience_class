{
 "cells": [
  {
   "cell_type": "code",
   "execution_count": 1,
   "id": "f3458e73",
   "metadata": {},
   "outputs": [],
   "source": [
    "import numpy as np \n",
    "import pandas as pd"
   ]
  },
  {
   "cell_type": "code",
   "execution_count": 4,
   "id": "b72fc789",
   "metadata": {},
   "outputs": [
    {
     "data": {
      "text/plain": [
       "0    False\n",
       "1    False\n",
       "2    False\n",
       "3     True\n",
       "dtype: bool"
      ]
     },
     "execution_count": 4,
     "metadata": {},
     "output_type": "execute_result"
    }
   ],
   "source": [
    "s = pd.Series ([1,2,3, np.nan])\n",
    "s\n",
    "s[2] is float\n",
    "s.isna()"
   ]
  },
  {
   "cell_type": "code",
   "execution_count": 6,
   "id": "f67fa2f6",
   "metadata": {},
   "outputs": [
    {
     "name": "stdout",
     "output_type": "stream",
     "text": [
      "<class 'pandas.core.series.Series'>\n",
      "RangeIndex: 4 entries, 0 to 3\n",
      "Series name: None\n",
      "Non-Null Count  Dtype\n",
      "--------------  -----\n",
      "3 non-null      Int32\n",
      "dtypes: Int32(1)\n",
      "memory usage: 152.0 bytes\n"
     ]
    }
   ],
   "source": [
    "s = pd.Series ([1,2,3, np.nan], dtype=\"Int32\")\n",
    "s[3] is pd.NA\n",
    "s.info()"
   ]
  },
  {
   "cell_type": "code",
   "execution_count": 7,
   "id": "71939749",
   "metadata": {},
   "outputs": [
    {
     "name": "stdout",
     "output_type": "stream",
     "text": [
      "<class 'pandas.core.series.Series'>\n",
      "RangeIndex: 3 entries, 0 to 2\n",
      "Series name: None\n",
      "Non-Null Count  Dtype \n",
      "--------------  ----- \n",
      "3 non-null      string\n",
      "dtypes: string(1)\n",
      "memory usage: 156.0 bytes\n"
     ]
    }
   ],
   "source": [
    "strs = pd.Series([\"one\", \"two\", \"three\"], dtype=\"string\")\n",
    "strs.info()"
   ]
  },
  {
   "cell_type": "code",
   "execution_count": 10,
   "id": "ec352810",
   "metadata": {},
   "outputs": [
    {
     "name": "stdout",
     "output_type": "stream",
     "text": [
      "<class 'pandas.core.frame.DataFrame'>\n",
      "RangeIndex: 3 entries, 0 to 2\n",
      "Data columns (total 3 columns):\n",
      " #   Column  Non-Null Count  Dtype \n",
      "---  ------  --------------  ----- \n",
      " 0   A       3 non-null      int64 \n",
      " 1   B       3 non-null      object\n",
      " 2   C       2 non-null      object\n",
      "dtypes: int64(1), object(2)\n",
      "memory usage: 204.0+ bytes\n"
     ]
    }
   ],
   "source": [
    "df = pd.DataFrame({\n",
    "    \"A\": [1,2,3],\n",
    "    \"B\": [\"one\", \"two\", \"three\"],\n",
    "    \"C\": [False, True, None]\n",
    "})\n",
    "df.info()"
   ]
  },
  {
   "cell_type": "code",
   "execution_count": 11,
   "id": "77c74d88",
   "metadata": {},
   "outputs": [
    {
     "name": "stdout",
     "output_type": "stream",
     "text": [
      "<class 'pandas.core.frame.DataFrame'>\n",
      "RangeIndex: 3 entries, 0 to 2\n",
      "Data columns (total 3 columns):\n",
      " #   Column  Non-Null Count  Dtype  \n",
      "---  ------  --------------  -----  \n",
      " 0   A       3 non-null      Int32  \n",
      " 1   B       3 non-null      string \n",
      " 2   C       2 non-null      boolean\n",
      "dtypes: Int32(1), boolean(1), string(1)\n",
      "memory usage: 177.0 bytes\n"
     ]
    }
   ],
   "source": [
    "df['A'] = df.A.astype(\"Int32\")\n",
    "df['B'] = df.B.astype('string')\n",
    "df['C'] = df.C.astype('boolean')\n",
    "df.info()"
   ]
  },
  {
   "cell_type": "code",
   "execution_count": 15,
   "id": "61c0bd8e",
   "metadata": {},
   "outputs": [
    {
     "data": {
      "text/plain": [
       "'Hello World Hello 234!'"
      ]
     },
     "execution_count": 15,
     "metadata": {},
     "output_type": "execute_result"
    }
   ],
   "source": [
    "\"{:.2f}\".format(17.89545) #representation types\n",
    "\"{:,d}\".format(1276547)\n",
    "\"{0} {1} {0} {2}!\".format(\"Hello\", \"World\", 234)"
   ]
  },
  {
   "cell_type": "code",
   "execution_count": 19,
   "id": "13baac2a",
   "metadata": {},
   "outputs": [
    {
     "data": {
      "text/plain": [
       "4"
      ]
     },
     "execution_count": 19,
     "metadata": {},
     "output_type": "execute_result"
    }
   ],
   "source": [
    "sentence = '\\t \\n This is a test string. \\t\\t \\n'\n",
    "sentence.lstrip()\n",
    "#check for lstrip and rstrip\n",
    "\n",
    "\"this is the data science\".capitalize()\n",
    "\"\"\"The courses in the \n",
    "catalog are: Data Science, Data Structure,\n",
    "Database, data Analytics\"\"\".lower().count('data')"
   ]
  },
  {
   "cell_type": "code",
   "execution_count": 21,
   "id": "87a56c87",
   "metadata": {},
   "outputs": [
    {
     "name": "stdout",
     "output_type": "stream",
     "text": [
      "['a', ' b', ' he he he']\n",
      "('https:', '/', '/www.google.com/usmanjoyia')\n",
      "['Line 1\\n', 'line 2\\n', 'line 3']\n"
     ]
    },
    {
     "data": {
      "text/plain": [
       "'a--->b--->he he he'"
      ]
     },
     "execution_count": 21,
     "metadata": {},
     "output_type": "execute_result"
    }
   ],
   "source": [
    "val = \"a, b, he he he\"\n",
    "values = val.split(',')\n",
    "print(values)\n",
    "url = \"https://www.google.com/usmanjoyia\"\n",
    "parts= url.partition('/')\n",
    "print (parts)\n",
    "\n",
    "lines = \"\"\"Line 1\n",
    "line 2\n",
    "line 3\"\"\".splitlines(True)\n",
    "print (lines)\n",
    "pieces = [x.strip() for x in val.split(\",\")]\n",
    "pieces\n",
    "\"--->\".join(pieces)\n",
    "\n",
    "#Use split and join in one statement to reformat the string\n",
    "#'Usman Joyia' to 'Joyia, Usman'\n"
   ]
  },
  {
   "cell_type": "code",
   "execution_count": 62,
   "id": "59b6966f",
   "metadata": {},
   "outputs": [
    {
     "data": {
      "text/plain": [
       "'C:\\\\Windows\\\\users\\\\UsmanJoyia\\\\ds'"
      ]
     },
     "execution_count": 62,
     "metadata": {},
     "output_type": "execute_result"
    }
   ],
   "source": [
    "path = r'C:\\Windows\\users\\UsmanJoyia\\ds'\n",
    "path"
   ]
  },
  {
   "cell_type": "code",
   "execution_count": 23,
   "id": "96d2ce21",
   "metadata": {},
   "outputs": [
    {
     "name": "stdout",
     "output_type": "stream",
     "text": [
      "Valid\n",
      "Valid\n"
     ]
    }
   ],
   "source": [
    "\"he\" in val\n",
    "val.index(\"a\")\n",
    "#some more built-in string functions\n",
    "#https://www.w3schools.com/python/python_ref_string.asp\n",
    "#let's have a deeper look into more of pattern matching, splitting and substituion on the go\n",
    "\n",
    "import re\n",
    "\n",
    "#metacharacters for pattern matching\n",
    "#[] {} () \\ * + ^ $ ? . | \n",
    "\n",
    "res = 'Valid' if re.fullmatch(r'\\D{5}', 'Awais') else 'Invalid'\n",
    "print (res)\n",
    "\n",
    "#\\d for digit, \\D for nondigit character\n",
    "#\\s for whitespace \\S not whitespace\n",
    "#\\w for alphanumeric or word \\W for not word\n",
    "#for custom classes use [] for single characters\n",
    "\n",
    "\n",
    "# validating the name that starts with first capital \n",
    "res = 'Valid' if re.fullmatch('[A-Z]?[a-z]+', 'Usm') else 'Invalid'\n",
    "print (res)\n"
   ]
  },
  {
   "cell_type": "code",
   "execution_count": 27,
   "id": "4e97e2ad",
   "metadata": {},
   "outputs": [
    {
     "name": "stdout",
     "output_type": "stream",
     "text": [
      "Valid\n",
      "Match\n"
     ]
    },
    {
     "data": {
      "text/plain": [
       "'No match'"
      ]
     },
     "execution_count": 27,
     "metadata": {},
     "output_type": "execute_result"
    }
   ],
   "source": [
    "#* for zero or more repeatation\n",
    "# + for one or more repeatation\n",
    "# ^(caret) works like not! operator only in []\n",
    "#otherwise it would only match to the starting character\n",
    "#for the ending character only, use $\n",
    "res = 'Valid' if re.fullmatch('[A-Z][a-z]+', 'Es') else 'Invalid'\n",
    "print (res)\n",
    "#? zero or one occurrence, {n,} for atleast occurrences\n",
    "#{n,m} inclusive m for n to m length\n",
    "print('Match' if re.fullmatch('labell?ed', 'labeled') else 'No match')\n",
    "'Match' if re.fullmatch(r'\\d{3,7}', '12345678') else 'No match'"
   ]
  },
  {
   "cell_type": "code",
   "execution_count": 61,
   "id": "c88dd01d",
   "metadata": {},
   "outputs": [
    {
     "data": {
      "text/plain": [
       "'Valid'"
      ]
     },
     "execution_count": 61,
     "metadata": {},
     "output_type": "execute_result"
    }
   ],
   "source": [
    "#Create and test a regular expression that matches a street address\n",
    "#consisting of a number with one or more digits followed by two words of one or more \n",
    "#characters each. The tokens should \n",
    "#be seperated by one space each as in 123 Main Street. \n",
    "\n",
    "pattern = r'\\d+ [A-Z]?[a-z]+ [A-Z][a-z]+'\n",
    "\"Valid\" if re.fullmatch(pattern, \"2 Ms S\") else \"Invalid\""
   ]
  },
  {
   "cell_type": "code",
   "execution_count": 33,
   "id": "b521fc4c",
   "metadata": {},
   "outputs": [
    {
     "name": "stdout",
     "output_type": "stream",
     "text": [
      "<callable_iterator object at 0x7f953af069e0>\n",
      "<re.Match object; span=(3, 4), match=' '>\n",
      "<re.Match object; span=(7, 8), match=' '>\n",
      "<re.Match object; span=(13, 15), match='\\t '>\n",
      "<re.Match object; span=(18, 20), match=' \\t'>\n"
     ]
    }
   ],
   "source": [
    "\n",
    "text = \"foo boo alice\\t bob \\tqux\"\n",
    "re.split(r\"\\s+\", text)\n",
    "\n",
    "regex = re.compile(r\"\\s+\")\n",
    "regex.split(text)\n",
    "regex.findall(text)\n",
    "iter = regex.finditer(text)\n",
    "for item in iter:\n",
    "    print(item)"
   ]
  },
  {
   "cell_type": "code",
   "execution_count": 38,
   "id": "ff5a40ae",
   "metadata": {},
   "outputs": [
    {
     "name": "stdout",
     "output_type": "stream",
     "text": [
      "['Data science', 'data Structure']\n"
     ]
    }
   ],
   "source": [
    "txt = \"This is Data science, this is data Structure\"\n",
    "pattern = r'data\\s\\w+'\n",
    "regex = re.compile(pattern, flags=re.IGNORECASE)\n",
    "x = regex.findall(txt)\n",
    "print (x)"
   ]
  },
  {
   "cell_type": "code",
   "execution_count": 42,
   "id": "d4c56a8b",
   "metadata": {},
   "outputs": [
    {
     "data": {
      "text/plain": [
       "[('dave', 'gmail', 'com'),\n",
       " ('steve.ad05', 'hotmail_.com', 'eu'),\n",
       " ('starcie_X0', 'bne.edu', 'cn')]"
      ]
     },
     "execution_count": 42,
     "metadata": {},
     "output_type": "execute_result"
    }
   ],
   "source": [
    "raw = \"\"\" Dave dave@gmail.com,\n",
    "Steve steve.ad05@hotmail_.com.eu,\n",
    "Starc starcie_X0@bne.edu.cn\n",
    "\"\"\"\n",
    "pattern = r\"([A-Z0-9._%-]+)@([A-Z._]+)\\.([A-Z]{2,4})\"\n",
    "regex = re.compile(pattern, flags=re.IGNORECASE)\n",
    "mails = regex.findall(raw)\n",
    "mails\n",
    "#processed = regex.sub(\"\", raw)\n",
    "#print(processed)\n",
    "\n",
    "#more practice with RegeX in python at: https://www.w3schools.com/python/python_regex.asp"
   ]
  },
  {
   "cell_type": "code",
   "execution_count": 94,
   "id": "51f731c0",
   "metadata": {},
   "outputs": [],
   "source": [
    "#https://regex101.com\n",
    "#http://www.regexlib.com\n",
    "#https://www.regular-expressions.info"
   ]
  },
  {
   "cell_type": "code",
   "execution_count": 43,
   "id": "84dfa274",
   "metadata": {},
   "outputs": [
    {
     "data": {
      "text/plain": [
       "Faisalabad    True\n",
       "Chiniot       True\n",
       "dtype: bool"
      ]
     },
     "execution_count": 43,
     "metadata": {},
     "output_type": "execute_result"
    }
   ],
   "source": [
    "zips = pd.Series({'Faisalabad': '38000', 'Chiniot':'34500'})\n",
    "zips.str.match(r'\\d{5}')"
   ]
  },
  {
   "cell_type": "code",
   "execution_count": 46,
   "id": "8205edb7",
   "metadata": {},
   "outputs": [
    {
     "data": {
      "text/html": [
       "<div>\n",
       "<style scoped>\n",
       "    .dataframe tbody tr th:only-of-type {\n",
       "        vertical-align: middle;\n",
       "    }\n",
       "\n",
       "    .dataframe tbody tr th {\n",
       "        vertical-align: top;\n",
       "    }\n",
       "\n",
       "    .dataframe thead th {\n",
       "        text-align: right;\n",
       "    }\n",
       "</style>\n",
       "<table border=\"1\" class=\"dataframe\">\n",
       "  <thead>\n",
       "    <tr style=\"text-align: right;\">\n",
       "      <th></th>\n",
       "      <th>Name</th>\n",
       "      <th>Email</th>\n",
       "      <th>Phone</th>\n",
       "    </tr>\n",
       "  </thead>\n",
       "  <tbody>\n",
       "    <tr>\n",
       "      <th>0</th>\n",
       "      <td>Blue Green</td>\n",
       "      <td>demo1@nu.edu.pk</td>\n",
       "      <td>03333123456</td>\n",
       "    </tr>\n",
       "    <tr>\n",
       "      <th>1</th>\n",
       "      <td>White Brown</td>\n",
       "      <td>demo2@nu.edu.pk</td>\n",
       "      <td>03121234567</td>\n",
       "    </tr>\n",
       "  </tbody>\n",
       "</table>\n",
       "</div>"
      ],
      "text/plain": [
       "          Name            Email        Phone\n",
       "0   Blue Green  demo1@nu.edu.pk  03333123456\n",
       "1  White Brown  demo2@nu.edu.pk  03121234567"
      ]
     },
     "execution_count": 46,
     "metadata": {},
     "output_type": "execute_result"
    }
   ],
   "source": [
    "contacts = [['Blue Green', 'demo1@nu.edu.pk', '03333123456'],\n",
    "            ['White Brown', 'demo2@nu.edu.pk', '03121234567']]\n",
    "\n",
    "contactsdf = pd.DataFrame(contacts, columns=['Name', 'Email', 'Phone'])\n",
    "contactsdf"
   ]
  },
  {
   "cell_type": "code",
   "execution_count": 47,
   "id": "24b3b28a",
   "metadata": {},
   "outputs": [
    {
     "data": {
      "text/html": [
       "<div>\n",
       "<style scoped>\n",
       "    .dataframe tbody tr th:only-of-type {\n",
       "        vertical-align: middle;\n",
       "    }\n",
       "\n",
       "    .dataframe tbody tr th {\n",
       "        vertical-align: top;\n",
       "    }\n",
       "\n",
       "    .dataframe thead th {\n",
       "        text-align: right;\n",
       "    }\n",
       "</style>\n",
       "<table border=\"1\" class=\"dataframe\">\n",
       "  <thead>\n",
       "    <tr style=\"text-align: right;\">\n",
       "      <th></th>\n",
       "      <th>Name</th>\n",
       "      <th>Email</th>\n",
       "      <th>Phone</th>\n",
       "    </tr>\n",
       "  </thead>\n",
       "  <tbody>\n",
       "    <tr>\n",
       "      <th>0</th>\n",
       "      <td>Blue Green</td>\n",
       "      <td>demo1@nu.edu.pk</td>\n",
       "      <td>0333-3123456</td>\n",
       "    </tr>\n",
       "    <tr>\n",
       "      <th>1</th>\n",
       "      <td>White Brown</td>\n",
       "      <td>demo2@nu.edu.pk</td>\n",
       "      <td>0312-1234567</td>\n",
       "    </tr>\n",
       "  </tbody>\n",
       "</table>\n",
       "</div>"
      ],
      "text/plain": [
       "          Name            Email         Phone\n",
       "0   Blue Green  demo1@nu.edu.pk  0333-3123456\n",
       "1  White Brown  demo2@nu.edu.pk  0312-1234567"
      ]
     },
     "execution_count": 47,
     "metadata": {},
     "output_type": "execute_result"
    }
   ],
   "source": [
    "def contact_transform(x):\n",
    "    pattern = r'(\\d{4})(\\d{7})'\n",
    "    res = re.fullmatch(pattern, x)\n",
    "    return \"-\".join(res.groups()) if res else x\n",
    "\n",
    "contactsdf['Phone'] = contactsdf['Phone'].map(contact_transform)\n",
    "contactsdf"
   ]
  }
 ],
 "metadata": {
  "kernelspec": {
   "display_name": "Python 3 (ipykernel)",
   "language": "python",
   "name": "python3"
  },
  "language_info": {
   "codemirror_mode": {
    "name": "ipython",
    "version": 3
   },
   "file_extension": ".py",
   "mimetype": "text/x-python",
   "name": "python",
   "nbconvert_exporter": "python",
   "pygments_lexer": "ipython3",
   "version": "3.11.6"
  }
 },
 "nbformat": 4,
 "nbformat_minor": 5
}
