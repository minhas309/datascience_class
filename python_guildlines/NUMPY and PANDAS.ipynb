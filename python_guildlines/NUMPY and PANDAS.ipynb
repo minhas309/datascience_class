{
 "cells": [
  {
   "cell_type": "code",
   "execution_count": 4,
   "id": "21c5b58a-1bf8-4176-aabd-096786da1f94",
   "metadata": {},
   "outputs": [],
   "source": [
    "import numpy as np"
   ]
  },
  {
   "cell_type": "code",
   "execution_count": 5,
   "id": "90b20acf",
   "metadata": {},
   "outputs": [
    {
     "name": "stdout",
     "output_type": "stream",
     "text": [
      "<class 'numpy.ndarray'>\n",
      "[ 0  2  4  6  8 10 12 14 16 18]\n",
      "10\n",
      "1\n",
      "(10,)\n"
     ]
    },
    {
     "data": {
      "text/plain": [
       "array([ 0,  2,  4,  6,  8, 10, 12, 14, 16, 18])"
      ]
     },
     "execution_count": 5,
     "metadata": {},
     "output_type": "execute_result"
    }
   ],
   "source": [
    "# \n",
    "# manual assigning value\n",
    "numbers0 = np.array([2,4,5,6,11])\n",
    "# using list comprehension\n",
    "numbers = np.array([x for x in range(20) if x%2 == 0 ])\n",
    "print(type(numbers))\n",
    "print(numbers)\n",
    "print(numbers.size)\n",
    "print(numbers.ndim)\n",
    "print(numbers.shape)\n",
    "numbers\n"
   ]
  },
  {
   "cell_type": "code",
   "execution_count": 10,
   "id": "5c3fb78d",
   "metadata": {},
   "outputs": [
    {
     "name": "stdout",
     "output_type": "stream",
     "text": [
      "[[ 4 11 12]\n",
      " [ 5 12 13]]\n",
      "Size:  6\n",
      "Item Size:  8\n",
      "Dimensions:  2\n",
      "Shape:  (2, 3)\n"
     ]
    }
   ],
   "source": [
    "# multidimesional array\n",
    "integers = np.array([[4,11,12],[5,12,13]])\n",
    "print(integers)\n",
    "\n",
    "print('Size: ', integers.size)\n",
    "print('Item Size: ', integers.itemsize)\n",
    "print('Dimensions: ', integers.ndim)\n",
    "print('Shape: ', integers.shape)"
   ]
  },
  {
   "cell_type": "code",
   "execution_count": 11,
   "id": "9e19eb72",
   "metadata": {},
   "outputs": [
    {
     "name": "stdout",
     "output_type": "stream",
     "text": [
      "[0.1 0.2 0.3]\n",
      "Size:  3\n",
      "Item Size:  8\n",
      "Dimensions:  1\n",
      "Shape:  (3,)\n"
     ]
    }
   ],
   "source": [
    "# Float array\n",
    "float = np.array([0.1,0.2,0.3])\n",
    "print(float)\n",
    "\n",
    "print('Size: ', float.size)\n",
    "print('Item Size: ', float.itemsize)\n",
    "print('Dimensions: ', float.ndim)\n",
    "print('Shape: ', float.shape)"
   ]
  },
  {
   "cell_type": "code",
   "execution_count": 12,
   "id": "fe6d4a67",
   "metadata": {},
   "outputs": [
    {
     "name": "stdout",
     "output_type": "stream",
     "text": [
      "4 11 12 \n",
      "5 12 13 \n",
      "4 11 12 5 12 13 "
     ]
    }
   ],
   "source": [
    "# iteration through the arrays\n",
    "for row in integers:\n",
    "    for column in row:\n",
    "        print(column, end=' ')\n",
    "    print()\n",
    "    \n",
    "# using flat\n",
    "for row in integers.flat:\n",
    "    print(row,end=' ')\n",
    "    "
   ]
  },
  {
   "cell_type": "code",
   "execution_count": 13,
   "id": "7907fa7d",
   "metadata": {},
   "outputs": [
    {
     "name": "stdout",
     "output_type": "stream",
     "text": [
      "zeros\n",
      "[[0. 0. 0. 0. 0.]\n",
      " [0. 0. 0. 0. 0.]\n",
      " [0. 0. 0. 0. 0.]\n",
      " [0. 0. 0. 0. 0.]]\n",
      "(4, 5)\n",
      "zeros\n",
      "[[0 0 0 0 0]\n",
      " [0 0 0 0 0]\n",
      " [0 0 0 0 0]\n",
      " [0 0 0 0 0]]\n",
      "(4, 5)\n",
      "fives\n",
      "[[5 5 5 5 5]\n",
      " [5 5 5 5 5]\n",
      " [5 5 5 5 5]\n",
      " [5 5 5 5 5]]\n",
      "(4, 5)\n",
      "fives1\n",
      "[[5 5 5 5 5]\n",
      " [5 5 5 5 5]\n",
      " [5 5 5 5 5]\n",
      " [5 5 5 5 5]]\n",
      "(4, 5)\n"
     ]
    }
   ],
   "source": [
    "# \n",
    "zeros = np.zeros((4,5))\n",
    "zeros1 = np.zeros((4,5), dtype='int')\n",
    "ones = np.ones((4,5))\n",
    "fives = np.full((4,5),5)\n",
    "fives1 = np.full((4,5),5, dtype='int')\n",
    "# do check with dtype argument, default is float\n",
    "\n",
    "print(\"zeros\")\n",
    "print(zeros)\n",
    "print(zeros.shape)\n",
    "\n",
    "print(\"zeros\")\n",
    "print(zeros1)\n",
    "print(zeros1.shape)\n",
    "\n",
    "print(\"fives\")\n",
    "print(fives)\n",
    "print(fives.shape)\n",
    "\n",
    "print(\"fives1\")\n",
    "print(fives1)\n",
    "print(fives1.shape)"
   ]
  },
  {
   "cell_type": "code",
   "execution_count": 19,
   "id": "0e8f9ffd",
   "metadata": {},
   "outputs": [
    {
     "name": "stdout",
     "output_type": "stream",
     "text": [
      "[[ 1  2]\n",
      " [ 3  4]\n",
      " [ 5  6]\n",
      " [ 7  8]\n",
      " [ 9 10]]\n",
      "[10  8  6  4  2]\n",
      "[10  8  6  4  2]\n",
      "[0.         0.03448276 0.06896552 0.10344828 0.13793103 0.17241379\n",
      " 0.20689655 0.24137931 0.27586207 0.31034483 0.34482759 0.37931034\n",
      " 0.4137931  0.44827586 0.48275862 0.51724138 0.55172414 0.5862069\n",
      " 0.62068966 0.65517241 0.68965517 0.72413793 0.75862069 0.79310345\n",
      " 0.82758621 0.86206897 0.89655172 0.93103448 0.96551724 1.        ]\n"
     ]
    }
   ],
   "source": [
    "# range function\n",
    "ranged_arrays = np.arange(1,11).reshape(5,2)\n",
    "print(ranged_arrays)\n",
    "\n",
    "listed_arrays = np.array([x for x in range (10 , 1, -2)])\n",
    "print(listed_arrays)\n",
    "\n",
    "listed_arrays.reshape(1,5)\n",
    "print(listed_arrays)\n",
    "\n",
    "float_ranges = np.linspace(0.0,1.0, num = 30)\n",
    "print(float_ranges)"
   ]
  },
  {
   "cell_type": "code",
   "execution_count": 20,
   "id": "7147c139",
   "metadata": {},
   "outputs": [
    {
     "name": "stdout",
     "output_type": "stream",
     "text": [
      "413 ms ± 1.94 ms per loop (mean ± std. dev. of 7 runs, 1 loop each)\n"
     ]
    }
   ],
   "source": [
    "# bit of performance\n",
    "%timeit sum([x for x in range(10_000_000)])"
   ]
  },
  {
   "cell_type": "code",
   "execution_count": 21,
   "id": "f714f6f8",
   "metadata": {},
   "outputs": [
    {
     "name": "stdout",
     "output_type": "stream",
     "text": [
      "18.6 ms ± 659 µs per loop (mean ± std. dev. of 7 runs, 10 loops each)\n"
     ]
    }
   ],
   "source": [
    "%timeit np.arange(10_000_000).sum()"
   ]
  },
  {
   "cell_type": "code",
   "execution_count": 23,
   "id": "a88f85b2",
   "metadata": {},
   "outputs": [
    {
     "name": "stdout",
     "output_type": "stream",
     "text": [
      "[[ 4 11 12]\n",
      " [ 5 12 13]]\n",
      "[[ 8 22 24]\n",
      " [10 24 26]]\n",
      "[[  64 1331 1728]\n",
      " [ 125 1728 2197]]\n",
      "[[14 21 22]\n",
      " [15 22 23]]\n",
      "[ 0  2  4  6  8 10 12 14 16 18]\n",
      "temp= [False False False False False False False  True  True  True]\n",
      "[ 6  8 10 12 14 16 18]\n"
     ]
    }
   ],
   "source": [
    "# arithamatic operators\n",
    "print(integers)\n",
    "print(integers * 2)\n",
    "print(integers ** 3)\n",
    "print(integers + 10)\n",
    "\n",
    "print(numbers)\n",
    "# print(float_ranges * numbers)\n",
    "temp = numbers > 12\n",
    "print('temp=',temp)\n",
    "# mask to filter values\n",
    "print(numbers[numbers > 5])"
   ]
  },
  {
   "cell_type": "code",
   "execution_count": 24,
   "id": "2777b677",
   "metadata": {},
   "outputs": [
    {
     "name": "stdout",
     "output_type": "stream",
     "text": [
      "[ 1  4  9 16 25]\n"
     ]
    }
   ],
   "source": [
    "#  activity\n",
    "\n",
    "values = np.arange(1,6)**2\n",
    "print(values)"
   ]
  },
  {
   "cell_type": "code",
   "execution_count": 36,
   "id": "e8c3473e",
   "metadata": {},
   "outputs": [
    {
     "name": "stdout",
     "output_type": "stream",
     "text": [
      "[[ 87  96  70]\n",
      " [ 80  85  75]\n",
      " [ 94  77  90]\n",
      " [100  81  82]]\n",
      "70\n"
     ]
    },
    {
     "data": {
      "text/plain": [
       "array([70, 75, 77, 81])"
      ]
     },
     "execution_count": 36,
     "metadata": {},
     "output_type": "execute_result"
    }
   ],
   "source": [
    "grades = np.array([[87,96, 70], [80,85,75], [94,77,90], [100,81,82]])\n",
    "print(grades)\n",
    "#grades.var()\n",
    "print(grades.min())\n",
    "grades.min(axis=1)"
   ]
  },
  {
   "cell_type": "code",
   "execution_count": 37,
   "id": "32ea84cb",
   "metadata": {},
   "outputs": [
    {
     "name": "stdout",
     "output_type": "stream",
     "text": [
      "[12  8 19 15  5 19  6 14 15 11  5 17  5 17 13]\n",
      "[[84 43 85 43 92 90]\n",
      " [76 88 71 95 66 61]\n",
      " [49 78 74 84 49 88]\n",
      " [73 91 90 49 76 53]\n",
      " [47 86 84 56 51 68]]\n"
     ]
    }
   ],
   "source": [
    "\n",
    "# random numbers\n",
    "random = np.random.randint(5,20,15)\n",
    "print(random)\n",
    "\n",
    "# generating the courses marks for 6 courses for 5 students\n",
    "grades = np.random.randint(40,100,30).reshape(5,6)\n",
    "print(grades)"
   ]
  },
  {
   "cell_type": "code",
   "execution_count": 38,
   "id": "81f6297f",
   "metadata": {},
   "outputs": [
    {
     "name": "stdout",
     "output_type": "stream",
     "text": [
      "74\n",
      "[76 88 71 95 66 61]\n",
      "[[76 88 71 95 66 61]\n",
      " [49 78 74 84 49 88]\n",
      " [73 91 90 49 76 53]]\n",
      "[[84 43 85 43 92 90]\n",
      " [49 78 74 84 49 88]\n",
      " [73 91 90 49 76 53]]\n",
      "[84 76 49 73 47]\n",
      "[[85 43]\n",
      " [71 95]\n",
      " [74 84]\n",
      " [90 49]\n",
      " [84 56]]\n",
      "[[84 85 92]\n",
      " [76 71 66]\n",
      " [49 74 49]\n",
      " [73 90 76]\n",
      " [47 84 51]]\n"
     ]
    }
   ],
   "source": [
    "# indexing\n",
    "print(grades[2,2])  #3rd student k 3rd marks\n",
    "# slicers => rows\n",
    "print(grades[1]) #2ns student k saray marks\n",
    "# sequential row picks\n",
    "print(grades[1:4]) # row 1 sa row 3\n",
    "# row 0,2,3\n",
    "print(grades[[0,2,3]])\n",
    "\n",
    "# sequential coulmn picks\n",
    "# all rows of specific column\n",
    "print(grades[:,0])#sirf pehla column\n",
    "\n",
    "print(grades[:,2:4])#sari rows 2 and 3 column \n",
    "print(grades[:,[0,2,4]])\n"
   ]
  },
  {
   "cell_type": "code",
   "execution_count": 42,
   "id": "81f10d10",
   "metadata": {},
   "outputs": [
    {
     "name": "stdout",
     "output_type": "stream",
     "text": [
      "[[58 97 63 58 46 80]\n",
      " [61 77 83 52 60 53]\n",
      " [57 93 54 52 40 67]\n",
      " [41 68 81 44 94 87]\n",
      " [72 56 89 45 92 75]\n",
      " [80 85 70 78 80 57]\n",
      " [42 73 94 64 45 74]\n",
      " [85 96 72 89 61 92]\n",
      " [98 66 78 82 63 92]\n",
      " [97 91 76 82 69 73]]\n",
      "average student wise =  [67.         64.33333333 60.5        69.16666667 71.5        75.\n",
      " 65.33333333 82.5        79.83333333 81.33333333]\n",
      "average course wise =  [69.1 80.2 76.  64.6 65.  75. ]\n",
      "Max student wise =  [97 83 93 94 92 85 94 96 98 97]\n",
      "Max course wise =  [98 97 94 89 94 92]\n",
      "Average of top performing student =  82.5\n",
      "alternating students =  [[58 97 63 58 46 80]\n",
      " [57 93 54 52 40 67]\n",
      " [72 56 89 45 92 75]\n",
      " [42 73 94 64 45 74]\n",
      " [98 66 78 82 63 92]]\n",
      "alternating courses =  [[58 63 46]\n",
      " [61 83 60]\n",
      " [57 54 40]\n",
      " [41 81 94]\n",
      " [72 89 92]\n",
      " [80 70 80]\n",
      " [42 94 45]\n",
      " [85 72 61]\n",
      " [98 78 63]\n",
      " [97 76 69]]\n"
     ]
    }
   ],
   "source": [
    "marks = np.random.randint(40,100,60).reshape(10,6)\n",
    "print(marks)\n",
    "\n",
    "print('average student wise = ', marks.mean(axis=1))\n",
    "print('average course wise = ', marks.mean(axis=0))\n",
    "\n",
    "print('Max student wise = ', marks.max(axis=1))\n",
    "print('Max course wise = ', marks.max(axis=0))\n",
    "\n",
    "print('Average of top performing student = ', marks.mean(axis=1).max())\n",
    "\n",
    "print('alternating students = ', marks[[x for x in range(10) if x%2==0]]) # or marks[0:10:2]\n",
    "print('alternating courses = ', marks[:,0:6:2])"
   ]
  },
  {
   "cell_type": "code",
   "execution_count": 45,
   "id": "e424592f",
   "metadata": {},
   "outputs": [
    {
     "name": "stdout",
     "output_type": "stream",
     "text": [
      "[84 43 85 43 92 90 76 88 71 95 66 61 49 78 74 84 49 88 73 91 90 49 76 53\n",
      " 47 86 84 56 51 68]\n",
      "[84 43 85 43 92 90 76 88 71 95 66 61 49 78 74 84 49 88 73 91 90 49 76 53\n",
      " 47 86 84 56 51 68]\n"
     ]
    }
   ],
   "source": [
    "# single dimension vector flatten vs ravel\n",
    "flattened = grades.flatten()\n",
    "print(flattened)\n",
    "flattened = grades.ravel()\n",
    "print(flattened)"
   ]
  },
  {
   "cell_type": "code",
   "execution_count": 48,
   "id": "4da26286",
   "metadata": {},
   "outputs": [
    {
     "name": "stdout",
     "output_type": "stream",
     "text": [
      "Zero    90\n",
      "One     91\n",
      "Two     85\n",
      "dtype: int64\n",
      "count     3.000000\n",
      "mean     88.666667\n",
      "std       3.214550\n",
      "min      85.000000\n",
      "25%      87.500000\n",
      "50%      90.000000\n",
      "75%      90.500000\n",
      "max      91.000000\n",
      "dtype: float64\n",
      "Zer0    90\n",
      "One     91\n",
      "Two     85\n",
      "dtype: int64\n",
      "count     3.000000\n",
      "mean     88.666667\n",
      "std       3.214550\n",
      "min      85.000000\n",
      "25%      87.500000\n",
      "50%      90.000000\n",
      "75%      90.500000\n",
      "max      91.000000\n",
      "dtype: float64\n"
     ]
    }
   ],
   "source": [
    "import pandas as pd\n",
    "\n",
    "# grades = pd.Series([90,91,85])\n",
    "grades = pd.Series([90,91,85], index = ['Zero','One','Two'])\n",
    "print(grades)\n",
    "print(grades.describe())\n",
    "\n",
    "grades = pd.Series({\"Zer0\":90, \"One\":91, \"Two\":85})\n",
    "print(grades)\n",
    "print(grades.describe())"
   ]
  },
  {
   "cell_type": "code",
   "execution_count": null,
   "id": "78bf18f8",
   "metadata": {},
   "outputs": [],
   "source": []
  }
 ],
 "metadata": {
  "kernelspec": {
   "display_name": "Python 3 (ipykernel)",
   "language": "python",
   "name": "python3"
  },
  "language_info": {
   "codemirror_mode": {
    "name": "ipython",
    "version": 3
   },
   "file_extension": ".py",
   "mimetype": "text/x-python",
   "name": "python",
   "nbconvert_exporter": "python",
   "pygments_lexer": "ipython3",
   "version": "3.11.6"
  }
 },
 "nbformat": 4,
 "nbformat_minor": 5
}
