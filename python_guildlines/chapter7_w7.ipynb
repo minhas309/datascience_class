{
 "cells": [
  {
   "cell_type": "code",
   "execution_count": 1,
   "id": "7fe80c2a",
   "metadata": {},
   "outputs": [],
   "source": [
    "import numpy as np"
   ]
  },
  {
   "cell_type": "code",
   "execution_count": 2,
   "id": "37be4bea",
   "metadata": {},
   "outputs": [
    {
     "name": "stdout",
     "output_type": "stream",
     "text": [
      "<class 'numpy.ndarray'>\n"
     ]
    },
    {
     "data": {
      "text/plain": [
       "array([ 2,  4,  5,  6, 11])"
      ]
     },
     "execution_count": 2,
     "metadata": {},
     "output_type": "execute_result"
    }
   ],
   "source": [
    "numbers = np.array([2,4,5,6,11])\n",
    "print(type(numbers))\n",
    "numbers"
   ]
  },
  {
   "cell_type": "code",
   "execution_count": 3,
   "id": "945648f5",
   "metadata": {
    "scrolled": true
   },
   "outputs": [
    {
     "name": "stdout",
     "output_type": "stream",
     "text": [
      "Size:  6\n",
      "Item Size:  8\n",
      "Dimensions:  2\n",
      "Shape (2, 3)\n"
     ]
    }
   ],
   "source": [
    "#multidimensional arrays\n",
    "\n",
    "integers = np.array([[4,11,12],\n",
    "                     [5,12,13]])\n",
    "integers\n",
    "\n",
    "print ('Size: ', integers.size)\n",
    "print ('Item Size: ', integers.itemsize)\n",
    "print ('Dimensions: ', integers.ndim)\n",
    "print (\"Shape\", integers.shape)"
   ]
  },
  {
   "cell_type": "code",
   "execution_count": 4,
   "id": "9dd0b561",
   "metadata": {},
   "outputs": [
    {
     "name": "stdout",
     "output_type": "stream",
     "text": [
      "Size:  4\n",
      "Item Size:  8\n",
      "Dimensions:  1\n",
      "Shape (4,)\n"
     ]
    }
   ],
   "source": [
    "floats = np.array([0.4,.5,.11,.21])\n",
    "floats\n",
    "print ('Size: ',floats.size)\n",
    "print ('Item Size: ',floats.itemsize)\n",
    "print ('Dimensions: ',floats.ndim)\n",
    "print (\"Shape\", floats.shape)"
   ]
  },
  {
   "cell_type": "code",
   "execution_count": 5,
   "id": "f20d786a",
   "metadata": {},
   "outputs": [
    {
     "name": "stdout",
     "output_type": "stream",
     "text": [
      "4 11 12 \n",
      "5 12 13 \n"
     ]
    }
   ],
   "source": [
    "#iteration through the arrays\n",
    "for row in integers:\n",
    "    for column in row:\n",
    "        print(column, end=' ')\n",
    "    print()"
   ]
  },
  {
   "cell_type": "code",
   "execution_count": 6,
   "id": "f1caa0d7",
   "metadata": {},
   "outputs": [
    {
     "name": "stdout",
     "output_type": "stream",
     "text": [
      "4 11 12 5 12 13 "
     ]
    }
   ],
   "source": [
    "for row in integers.flat:\n",
    "    print (row, end = \" \")"
   ]
  },
  {
   "cell_type": "code",
   "execution_count": 7,
   "id": "5dad9900",
   "metadata": {},
   "outputs": [
    {
     "name": "stdout",
     "output_type": "stream",
     "text": [
      "Zeros => [[0 0 0 0 0]\n",
      " [0 0 0 0 0]\n",
      " [0 0 0 0 0]\n",
      " [0 0 0 0 0]]\n",
      "One => [[1 1 1 1 1]\n",
      " [1 1 1 1 1]\n",
      " [1 1 1 1 1]\n",
      " [1 1 1 1 1]]\n",
      "Fives => [[5 5 5 5 5]\n",
      " [5 5 5 5 5]\n",
      " [5 5 5 5 5]\n",
      " [5 5 5 5 5]]\n"
     ]
    }
   ],
   "source": [
    "zeros = np.zeros((4,5), dtype='int')\n",
    "ones = np.ones((4,5), dtype='int')\n",
    "fives = np.full((4,5), 5)\n",
    "#do check with dtype argument, default is float\n",
    "print (\"Zeros =>\", zeros)\n",
    "print (\"One =>\", ones)\n",
    "print (\"Fives =>\", fives)"
   ]
  },
  {
   "cell_type": "code",
   "execution_count": 8,
   "id": "250bb5e3",
   "metadata": {},
   "outputs": [
    {
     "data": {
      "text/plain": [
       "array([0.  , 0.25, 0.5 , 0.75, 1.  ])"
      ]
     },
     "execution_count": 8,
     "metadata": {},
     "output_type": "execute_result"
    }
   ],
   "source": [
    "ranged_arrays = np.arange(1,11).reshape(5,2)\n",
    "ranged_arrays\n",
    "listed_arrays = np.array([x for x in range(10, 1, -2)])\n",
    "listed_arrays.reshape(5,1)\n",
    "float_ranges = np.linspace(0.0, 1.0, num=5)\n",
    "float_ranges"
   ]
  },
  {
   "cell_type": "code",
   "execution_count": 9,
   "id": "d8f9bfb2",
   "metadata": {},
   "outputs": [
    {
     "name": "stdout",
     "output_type": "stream",
     "text": [
      "449 ms ± 4.51 ms per loop (mean ± std. dev. of 7 runs, 1 loop each)\n"
     ]
    }
   ],
   "source": [
    "#bit of performance \n",
    "\n",
    "%timeit sum([x for x in range(10_000_000)])"
   ]
  },
  {
   "cell_type": "code",
   "execution_count": 10,
   "id": "d3f9d99b",
   "metadata": {},
   "outputs": [
    {
     "name": "stdout",
     "output_type": "stream",
     "text": [
      "17.6 ms ± 621 µs per loop (mean ± std. dev. of 7 runs, 100 loops each)\n"
     ]
    }
   ],
   "source": [
    "%timeit np.arange(10_000_000).sum()"
   ]
  },
  {
   "cell_type": "code",
   "execution_count": 11,
   "id": "ddfa0a84",
   "metadata": {},
   "outputs": [
    {
     "data": {
      "text/plain": [
       "array([ 6, 11])"
      ]
     },
     "execution_count": 11,
     "metadata": {},
     "output_type": "execute_result"
    }
   ],
   "source": [
    "#arithmatic operators\n",
    "integers * 2\n",
    "integers ** 3\n",
    "integers + 10\n",
    "integers\n",
    "\n",
    "float_ranges * numbers\n",
    "\n",
    "numbers > 12\n",
    "numbers[numbers > 5]"
   ]
  },
  {
   "cell_type": "code",
   "execution_count": 12,
   "id": "8453b382",
   "metadata": {},
   "outputs": [
    {
     "name": "stdout",
     "output_type": "stream",
     "text": [
      "[1 2 3 4 5]\n"
     ]
    },
    {
     "data": {
      "text/plain": [
       "array([ 1,  4,  9, 16, 25])"
      ]
     },
     "execution_count": 12,
     "metadata": {},
     "output_type": "execute_result"
    }
   ],
   "source": [
    "#Create an array of the values from 1 through 5, \n",
    "#then use broadcasting to square each value.\n",
    "values = np.arange(1,6)\n",
    "print (values)\n",
    "values ** 2"
   ]
  },
  {
   "cell_type": "code",
   "execution_count": 14,
   "id": "0a699c65",
   "metadata": {},
   "outputs": [
    {
     "data": {
      "text/plain": [
       "array([84.33333333, 92.33333333, 87.        , 87.66666667])"
      ]
     },
     "execution_count": 14,
     "metadata": {},
     "output_type": "execute_result"
    }
   ],
   "source": [
    "grades = np.array([[87, 96, 70], \n",
    "                   [100, 87, 90],\n",
    "                   [94, 77, 90], \n",
    "                   [100, 81, 82]])\n",
    "#sum, min, max, mean, std, var\n",
    "grades.mean(axis = 1)"
   ]
  },
  {
   "cell_type": "code",
   "execution_count": 15,
   "id": "5440f4dc",
   "metadata": {},
   "outputs": [
    {
     "data": {
      "text/plain": [
       "array([[87, 78, 59, 96, 44, 75],\n",
       "       [96, 55, 69, 59, 98, 73],\n",
       "       [94, 55, 84, 88, 97, 81],\n",
       "       [63, 46, 56, 59, 83, 81],\n",
       "       [53, 79, 51, 51, 46, 63]])"
      ]
     },
     "execution_count": 15,
     "metadata": {},
     "output_type": "execute_result"
    }
   ],
   "source": [
    "#random numbers \n",
    "\n",
    "random = np.random.randint(5, 20, 15)\n",
    "random\n",
    "# generating the courses marks for 6 courses for 10 students\n",
    "grades = np.random.randint(40, 100, 30).reshape(5,6)\n",
    "grades"
   ]
  },
  {
   "cell_type": "code",
   "execution_count": 16,
   "id": "84b8ce83",
   "metadata": {},
   "outputs": [
    {
     "name": "stdout",
     "output_type": "stream",
     "text": [
      "[[96 55 69 59 98 73]\n",
      " [94 55 84 88 97 81]\n",
      " [63 46 56 59 83 81]]\n"
     ]
    },
    {
     "data": {
      "text/plain": [
       "array([[59, 44],\n",
       "       [69, 98],\n",
       "       [84, 97],\n",
       "       [56, 83],\n",
       "       [51, 46]])"
      ]
     },
     "execution_count": 16,
     "metadata": {},
     "output_type": "execute_result"
    }
   ],
   "source": [
    "#indexing \n",
    "grades[2,2]\n",
    "#slicers => rows\n",
    "grades[1]\n",
    "# sequential row picks\n",
    "print(grades[1:4])\n",
    "# all rows for specific column\n",
    "grades[:, 0]#sequential column pick\n",
    "grades[:, 2:4]\n",
    "#specific colum picks\n",
    "grades[:, [2,4]]"
   ]
  },
  {
   "cell_type": "code",
   "execution_count": 20,
   "id": "84b6b91d",
   "metadata": {},
   "outputs": [
    {
     "name": "stdout",
     "output_type": "stream",
     "text": [
      "[[94 52 80]\n",
      " [61 90 81]\n",
      " [95 54 98]\n",
      " [68 89 59]\n",
      " [92 81 93]\n",
      " [66 51 74]]\n"
     ]
    },
    {
     "data": {
      "text/plain": [
       "(6, 3)"
      ]
     },
     "execution_count": 20,
     "metadata": {},
     "output_type": "execute_result"
    }
   ],
   "source": [
    "#generate exam marks for 10 students \n",
    "#for 6 courses and perform following tasks\n",
    "exam = np.random.randint(40, 100, 60).reshape(10,6)\n",
    "#find averge marks student wise and course wise.\n",
    "avg_student = exam.mean(axis = 1)\n",
    "avg_course = exam.mean(axis = 0)\n",
    "#find the max marks for each course.\n",
    "max_course = exam.max(axis = 0)\n",
    "#find the max makrs for each student.\n",
    "max_student = exam.max(axis = 1)\n",
    "#find the average of top performing student overall\n",
    "max_avg_student = max(exam.mean(axis = 1))\n",
    "#t1 => select exams marks for alternating students\n",
    "alternating_students = exam[4:, 0:6:2]\n",
    "print(alternating_students)\n",
    "alternating_students.shape\n",
    "#t2 => select marks for alternating courses for 5th student"
   ]
  },
  {
   "cell_type": "code",
   "execution_count": 21,
   "id": "028fa82f",
   "metadata": {},
   "outputs": [
    {
     "data": {
      "text/plain": [
       "array([60, 78, 59, 96, 44, 75, 96, 55, 69, 59, 98, 73, 94, 55, 84, 88, 97,\n",
       "       81, 63, 46, 56, 59, 83, 81, 53, 79, 51, 51, 46, 63])"
      ]
     },
     "execution_count": 21,
     "metadata": {},
     "output_type": "execute_result"
    }
   ],
   "source": [
    "#single dimension vector flatten vs ravel\n",
    "flattend = grades.flatten()\n",
    "flattend[0] = 60\n",
    "flattend\n",
    "# grades"
   ]
  },
  {
   "cell_type": "code",
   "execution_count": null,
   "id": "fa8f81e4-7549-44a1-8265-f399b5b8b3ca",
   "metadata": {},
   "outputs": [],
   "source": [
    "#NumPy universal functions\n",
    "\n",
    "# Math => add, subtract, multiply, divide, remainder, exp, log, sqrt, power, and more.\n",
    "# Trigonometry => sin, cos, tan, hypot, arcsin, arccos, arctan, and more.\n",
    "# Bit manipulation => bitwise_and, bitwise_or, bitwise_xor, invert, left_shift and right_shift.\n",
    "# Comparison => greater, greater_equal, less, less_equal, equal, not_equal, \n",
    "        #logical_and,logical_or, logical_xor, logical_not, minimum, maximum, and more.\n",
    "#Floating point => floor, ceil, isinf, isnan, fabs, trunc, and more."
   ]
  },
  {
   "cell_type": "code",
   "execution_count": 24,
   "id": "e3b97b3c",
   "metadata": {},
   "outputs": [
    {
     "data": {
      "text/plain": [
       "count     3.000000\n",
       "mean     88.666667\n",
       "std       3.214550\n",
       "min      85.000000\n",
       "25%      87.500000\n",
       "50%      90.000000\n",
       "75%      90.500000\n",
       "max      91.000000\n",
       "dtype: float64"
      ]
     },
     "execution_count": 24,
     "metadata": {},
     "output_type": "execute_result"
    }
   ],
   "source": [
    "import pandas as pd\n",
    "\n",
    "grades = pd.Series([90, 91,85], index= [\"sam\", \"sams\", \"samss\"])\n",
    "grades.samss\n",
    "grades.describe()"
   ]
  },
  {
   "cell_type": "code",
   "execution_count": 25,
   "id": "6dfb6b13",
   "metadata": {},
   "outputs": [
    {
     "data": {
      "text/plain": [
       "count     3.000000\n",
       "mean     45.000000\n",
       "std       6.928203\n",
       "min      37.000000\n",
       "25%      43.000000\n",
       "50%      49.000000\n",
       "75%      49.000000\n",
       "max      49.000000\n",
       "dtype: float64"
      ]
     },
     "execution_count": 25,
     "metadata": {},
     "output_type": "execute_result"
    }
   ],
   "source": [
    "grades = pd.Series ({\"Sam\":49, \"Sams\":49, \"Samss\":37})\n",
    "grades.describe()"
   ]
  },
  {
   "cell_type": "code",
   "execution_count": 26,
   "id": "b1bba8f4",
   "metadata": {},
   "outputs": [
    {
     "data": {
      "text/html": [
       "<div>\n",
       "<style scoped>\n",
       "    .dataframe tbody tr th:only-of-type {\n",
       "        vertical-align: middle;\n",
       "    }\n",
       "\n",
       "    .dataframe tbody tr th {\n",
       "        vertical-align: top;\n",
       "    }\n",
       "\n",
       "    .dataframe thead th {\n",
       "        text-align: right;\n",
       "    }\n",
       "</style>\n",
       "<table border=\"1\" class=\"dataframe\">\n",
       "  <thead>\n",
       "    <tr style=\"text-align: right;\">\n",
       "      <th></th>\n",
       "      <th>Sams</th>\n",
       "      <th>David</th>\n",
       "      <th>Bob</th>\n",
       "      <th>Aalic</th>\n",
       "    </tr>\n",
       "  </thead>\n",
       "  <tbody>\n",
       "    <tr>\n",
       "      <th>0</th>\n",
       "      <td>82</td>\n",
       "      <td>88</td>\n",
       "      <td>68</td>\n",
       "      <td>78</td>\n",
       "    </tr>\n",
       "    <tr>\n",
       "      <th>1</th>\n",
       "      <td>77</td>\n",
       "      <td>71</td>\n",
       "      <td>86</td>\n",
       "      <td>85</td>\n",
       "    </tr>\n",
       "    <tr>\n",
       "      <th>2</th>\n",
       "      <td>82</td>\n",
       "      <td>61</td>\n",
       "      <td>63</td>\n",
       "      <td>85</td>\n",
       "    </tr>\n",
       "    <tr>\n",
       "      <th>3</th>\n",
       "      <td>65</td>\n",
       "      <td>83</td>\n",
       "      <td>90</td>\n",
       "      <td>65</td>\n",
       "    </tr>\n",
       "    <tr>\n",
       "      <th>4</th>\n",
       "      <td>76</td>\n",
       "      <td>70</td>\n",
       "      <td>75</td>\n",
       "      <td>82</td>\n",
       "    </tr>\n",
       "  </tbody>\n",
       "</table>\n",
       "</div>"
      ],
      "text/plain": [
       "   Sams  David  Bob  Aalic\n",
       "0    82     88   68     78\n",
       "1    77     71   86     85\n",
       "2    82     61   63     85\n",
       "3    65     83   90     65\n",
       "4    76     70   75     82"
      ]
     },
     "execution_count": 26,
     "metadata": {},
     "output_type": "execute_result"
    }
   ],
   "source": [
    "# a more concrete example\n",
    "\n",
    "marks = {\"Sams\": np.random.randint(60,100,5), \"David\":np.random.randint(60,100,5), \"Bob\":np.random.randint(60,100,5)\n",
    "         ,\"Aalic\":np.random.randint(60,100,5) }\n",
    "grades = pd.DataFrame(marks)\n",
    "grades\n"
   ]
  },
  {
   "cell_type": "code",
   "execution_count": 27,
   "id": "d4111e26",
   "metadata": {},
   "outputs": [
    {
     "data": {
      "text/html": [
       "<div>\n",
       "<style scoped>\n",
       "    .dataframe tbody tr th:only-of-type {\n",
       "        vertical-align: middle;\n",
       "    }\n",
       "\n",
       "    .dataframe tbody tr th {\n",
       "        vertical-align: top;\n",
       "    }\n",
       "\n",
       "    .dataframe thead th {\n",
       "        text-align: right;\n",
       "    }\n",
       "</style>\n",
       "<table border=\"1\" class=\"dataframe\">\n",
       "  <thead>\n",
       "    <tr style=\"text-align: right;\">\n",
       "      <th></th>\n",
       "      <th>Sams</th>\n",
       "      <th>David</th>\n",
       "      <th>Bob</th>\n",
       "      <th>Aalic</th>\n",
       "    </tr>\n",
       "  </thead>\n",
       "  <tbody>\n",
       "    <tr>\n",
       "      <th>CS4043</th>\n",
       "      <td>82</td>\n",
       "      <td>88</td>\n",
       "      <td>68</td>\n",
       "      <td>78</td>\n",
       "    </tr>\n",
       "    <tr>\n",
       "      <th>SE4003</th>\n",
       "      <td>77</td>\n",
       "      <td>71</td>\n",
       "      <td>86</td>\n",
       "      <td>85</td>\n",
       "    </tr>\n",
       "    <tr>\n",
       "      <th>SE4423</th>\n",
       "      <td>82</td>\n",
       "      <td>61</td>\n",
       "      <td>63</td>\n",
       "      <td>85</td>\n",
       "    </tr>\n",
       "    <tr>\n",
       "      <th>CS3033</th>\n",
       "      <td>65</td>\n",
       "      <td>83</td>\n",
       "      <td>90</td>\n",
       "      <td>65</td>\n",
       "    </tr>\n",
       "    <tr>\n",
       "      <th>SE4554</th>\n",
       "      <td>76</td>\n",
       "      <td>70</td>\n",
       "      <td>75</td>\n",
       "      <td>82</td>\n",
       "    </tr>\n",
       "  </tbody>\n",
       "</table>\n",
       "</div>"
      ],
      "text/plain": [
       "        Sams  David  Bob  Aalic\n",
       "CS4043    82     88   68     78\n",
       "SE4003    77     71   86     85\n",
       "SE4423    82     61   63     85\n",
       "CS3033    65     83   90     65\n",
       "SE4554    76     70   75     82"
      ]
     },
     "execution_count": 27,
     "metadata": {},
     "output_type": "execute_result"
    }
   ],
   "source": [
    "grades.index = [\"CS4043\", \"SE4003\", \"SE4423\", \"CS3033\", \"SE4554\"]\n",
    "grades"
   ]
  },
  {
   "cell_type": "code",
   "execution_count": 28,
   "id": "0a3fbd59",
   "metadata": {},
   "outputs": [
    {
     "data": {
      "text/plain": [
       "Index(['CS4043', 'SE4003', 'SE4423', 'CS3033', 'SE4554'], dtype='object')"
      ]
     },
     "execution_count": 28,
     "metadata": {},
     "output_type": "execute_result"
    }
   ],
   "source": [
    "grades.index"
   ]
  },
  {
   "cell_type": "code",
   "execution_count": 29,
   "id": "7684245f",
   "metadata": {},
   "outputs": [
    {
     "data": {
      "text/plain": [
       "Sams\n",
       "82    2\n",
       "77    1\n",
       "65    1\n",
       "76    1\n",
       "Name: count, dtype: int64"
      ]
     },
     "execution_count": 29,
     "metadata": {},
     "output_type": "execute_result"
    }
   ],
   "source": [
    "grades.Sams.value_counts()"
   ]
  },
  {
   "cell_type": "code",
   "execution_count": 33,
   "id": "9d2b94dd",
   "metadata": {
    "scrolled": true
   },
   "outputs": [
    {
     "data": {
      "text/plain": [
       "<Axes: >"
      ]
     },
     "execution_count": 33,
     "metadata": {},
     "output_type": "execute_result"
    },
    {
     "data": {
      "image/png": "[encoded data removed]",
      "text/plain": [
       "<Figure size 640x480 with 1 Axes>"
      ]
     },
     "metadata": {},
     "output_type": "display_data"
    }
   ],
   "source": [
    "grades.plot()\n",
    "grades.Sams.plot(kind='bar')"
   ]
  },
  {
   "cell_type": "code",
   "execution_count": null,
   "id": "607898b2-a25f-4ab0-a9bb-b9745a0b6740",
   "metadata": {},
   "outputs": [],
   "source": []
  }
 ],
 "metadata": {
  "kernelspec": {
   "display_name": "Python 3 (ipykernel)",
   "language": "python",
   "name": "python3"
  },
  "language_info": {
   "codemirror_mode": {
    "name": "ipython",
    "version": 3
   },
   "file_extension": ".py",
   "mimetype": "text/x-python",
   "name": "python",
   "nbconvert_exporter": "python",
   "pygments_lexer": "ipython3",
   "version": "3.11.6"
  }
 },
 "nbformat": 4,
 "nbformat_minor": 5
}
